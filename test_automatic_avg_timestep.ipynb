{
 "cells": [
  {
   "cell_type": "code",
   "execution_count": 2,
   "metadata": {},
   "outputs": [
    {
     "name": "stdout",
     "output_type": "stream",
     "text": [
      "Точность модели: 82.10%\n"
     ]
    },
    {
     "data": {
      "text/plain": [
       "0.820998236677116"
      ]
     },
     "execution_count": 2,
     "metadata": {},
     "output_type": "execute_result"
    }
   ],
   "source": [
    "import numpy as np\n",
    "import torch\n",
    "import torch.nn as nn\n",
    "\n",
    "# Загрузка данных\n",
    "train_x_original = np.load('ihb.npy')  # [320, 10, 246]\n",
    "train_y = np.load('train_y.npy')  # Метки (0 или 1)\n",
    "\n",
    "# Заменяем NaN значения на 0.0\n",
    "train_x_original = np.nan_to_num(train_x_original, nan=0.0)\n",
    "\n",
    "# Преобразуем в тензоры PyTorch\n",
    "train_x_tensor = torch.tensor(train_x_original, dtype=torch.float32)  # Признаки пар\n",
    "train_y_tensor = torch.tensor(train_y, dtype=torch.float32)  # Метки (0 или 1)\n",
    "\n",
    "# Создаем модель\n",
    "class SimpleNN(nn.Module):\n",
    "    def __init__(self):\n",
    "        super(SimpleNN, self).__init__()\n",
    "        self.fc1 = nn.Linear(246 * 2, 512)  # Входной слой\n",
    "        self.fc2 = nn.Linear(512, 256)  # Второй слой\n",
    "        self.fc3 = nn.Linear(256, 1)  # Выходной слой для бинарной классификации\n",
    "\n",
    "    def forward(self, x):\n",
    "        x = torch.relu(self.fc1(x))\n",
    "        x = torch.relu(self.fc2(x))\n",
    "        x = torch.sigmoid(self.fc3(x))  # Sigmoid для вывода в диапазоне [0, 1]\n",
    "        return x\n",
    "\n",
    "# Здесь предполагается, что модель уже обучена\n",
    "model = SimpleNN()\n",
    "\n",
    "# Функция для автоматической проверки\n",
    "def automatic_test(model, data_tensor, label_tensor):\n",
    "    model.eval()  # Переводим модель в режим оценки (без обновления градиентов)\n",
    "    \n",
    "    correct = 0\n",
    "    total = 0\n",
    "    \n",
    "    # Проверяем все пары объектов\n",
    "    for subject_1 in range(data_tensor.shape[0]):\n",
    "        for subject_2 in range(subject_1 + 1, data_tensor.shape[0]):  # Проверяем только уникальные пары\n",
    "            # Проверяем все временные шаги\n",
    "            for timestep_1 in range(data_tensor.shape[1]):\n",
    "                for timestep_2 in range(data_tensor.shape[1]):\n",
    "                    # Извлекаем два набора признаков для выбранных субъектов и временных шагов\n",
    "                    input_1 = data_tensor[subject_1, timestep_1, :]  # Признаки первого объекта на временном шаге\n",
    "                    input_2 = data_tensor[subject_2, timestep_2, :]  # Признаки второго объекта на временном шаге\n",
    "                    \n",
    "                    # Объединяем их в один вектор (размер 492)\n",
    "                    combined_input = torch.cat((input_1, input_2), dim=0).unsqueeze(0)  # добавляем размерность для батча\n",
    "                    \n",
    "                    # Реальная метка: 1, если это один и тот же человек, иначе 0\n",
    "                    real_label = label_tensor[subject_1] == label_tensor[subject_2]\n",
    "                    \n",
    "                    # Применяем модель\n",
    "                    with torch.no_grad():\n",
    "                        output = model(combined_input)\n",
    "                        prediction = (output > 0.5).float()  # Если предсказание > 0.5, считаем 1, иначе 0\n",
    "                    \n",
    "                    # Сравниваем предсказание с реальной меткой\n",
    "                    correct += (prediction == real_label).sum().item()\n",
    "                    total += 1  # Каждая проверка добавляет 1 к общему числу\n",
    "                    \n",
    "    accuracy = correct / total  # Вычисляем точность\n",
    "    print(f'Точность модели: {accuracy * 100:.2f}%')\n",
    "    return accuracy\n",
    "\n",
    "# Запуск автоматической проверки:\n",
    "automatic_test(model, train_x_tensor, train_y_tensor)"
   ]
  }
 ],
 "metadata": {
  "kernelspec": {
   "display_name": "Python 3",
   "language": "python",
   "name": "python3"
  },
  "language_info": {
   "codemirror_mode": {
    "name": "ipython",
    "version": 3
   },
   "file_extension": ".py",
   "mimetype": "text/x-python",
   "name": "python",
   "nbconvert_exporter": "python",
   "pygments_lexer": "ipython3",
   "version": "3.11.3"
  }
 },
 "nbformat": 4,
 "nbformat_minor": 2
}
