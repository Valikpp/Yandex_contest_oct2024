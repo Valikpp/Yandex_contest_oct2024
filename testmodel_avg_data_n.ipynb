{
 "cells": [
  {
   "cell_type": "code",
   "execution_count": 16,
   "metadata": {},
   "outputs": [
    {
     "name": "stdout",
     "output_type": "stream",
     "text": [
      "Предсказанная метка модели: tensor([[0.4992]])\n"
     ]
    }
   ],
   "source": [
    "import numpy as np\n",
    "import torch\n",
    "import torch.nn as nn\n",
    "\n",
    "# Загрузка исходных данных\n",
    "train_x_original = np.load('ihb.npy')  # [320, 10, 246]\n",
    "train_y = np.load('train_y.npy')  # Метки (0 или 1)\n",
    "\n",
    "# Заменяем NaN значения на 0.0\n",
    "train_x_original = np.nan_to_num(train_x_original, nan=0.0)\n",
    "\n",
    "# Преобразуем в тензоры PyTorch\n",
    "train_x_tensor = torch.tensor(train_x_original, dtype=torch.float32)  # Признаки пар\n",
    "train_y_tensor = torch.tensor(train_y, dtype=torch.float32)  # Метки (0 или 1)\n",
    "\n",
    "# Создаем модель\n",
    "class SimpleNN(nn.Module):\n",
    "    def __init__(self):\n",
    "        super(SimpleNN, self).__init__()\n",
    "        self.fc1 = nn.Linear(246 * 2, 512)  # Входной слой\n",
    "        self.fc2 = nn.Linear(512, 256)  # Второй слой\n",
    "        self.fc3 = nn.Linear(256, 1)  # Выходной слой для бинарной классификации\n",
    "\n",
    "    def forward(self, x):\n",
    "        x = torch.relu(self.fc1(x))\n",
    "        x = torch.relu(self.fc2(x))\n",
    "        x = torch.sigmoid(self.fc3(x))  # Sigmoid для вывода в диапазоне [0, 1]\n",
    "        return x\n",
    "\n",
    "# Здесь предполагается, что модель уже обучена\n",
    "model = SimpleNN()\n",
    "\n",
    "# Функция для ручного тестирования\n",
    "def manual_test(model, data_tensor):\n",
    "    model.eval()  # Переводим модель в режим оценки (без обновления градиентов)\n",
    "    \n",
    "    # Запрашиваем у пользователя выбор субъекта\n",
    "    subject_1 = int(input(\"Введите индекс первого объекта (0-319): \"))\n",
    "    subject_2 = int(input(\"Введите индекс второго объекта (0-319): \"))\n",
    "    \n",
    "    # Выбираем временной шаг для обоих объектов\n",
    "    timestep_1 = int(input(\"Введите индекс временного шага для первого объекта (0-9): \"))\n",
    "    timestep_2 = int(input(\"Введите индекс временного шага для второго объекта (0-9): \"))\n",
    "    \n",
    "    # Извлекаем два набора признаков для выбранных субъектов и временных шагов\n",
    "    input_1 = data_tensor[subject_1, timestep_1, :]  # Признаки первого объекта на временном шаге\n",
    "    input_2 = data_tensor[subject_2, timestep_2, :]  # Признаки второго объекта на временном шаге\n",
    "    \n",
    "    # Объединяем их в один вектор (размер 492)\n",
    "    combined_input = torch.cat((input_1, input_2), dim=0).unsqueeze(0)  # добавляем размерность для батча\n",
    "\n",
    "\n",
    "    # Применяем модель\n",
    "    with torch.no_grad():\n",
    "        output = model(combined_input)\n",
    "        print(f\"Предсказанная метка модели: {output}\")\n",
    "\n",
    "# Запуск тестирования:\n",
    "manual_test(model, train_x_tensor)"
   ]
  }
 ],
 "metadata": {
  "kernelspec": {
   "display_name": "Python 3",
   "language": "python",
   "name": "python3"
  },
  "language_info": {
   "codemirror_mode": {
    "name": "ipython",
    "version": 3
   },
   "file_extension": ".py",
   "mimetype": "text/x-python",
   "name": "python",
   "nbconvert_exporter": "python",
   "pygments_lexer": "ipython3",
   "version": "3.11.3"
  }
 },
 "nbformat": 4,
 "nbformat_minor": 2
}
